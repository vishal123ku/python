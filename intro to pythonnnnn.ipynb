{
 "cells": [
  {
   "cell_type": "code",
   "execution_count": 1,
   "id": "f0b4cfac",
   "metadata": {},
   "outputs": [
    {
     "name": "stdout",
     "output_type": "stream",
     "text": [
      "hello world\n"
     ]
    }
   ],
   "source": [
    "print('hello world')"
   ]
  },
  {
   "cell_type": "code",
   "execution_count": 2,
   "id": "9156b13a",
   "metadata": {},
   "outputs": [
    {
     "name": "stdout",
     "output_type": "stream",
     "text": [
      "vishal\n"
     ]
    }
   ],
   "source": [
    "print('vishal')"
   ]
  },
  {
   "cell_type": "code",
   "execution_count": 3,
   "id": "c6af6b5c",
   "metadata": {},
   "outputs": [
    {
     "ename": "NameError",
     "evalue": "name 'Print' is not defined",
     "output_type": "error",
     "traceback": [
      "\u001b[1;31m---------------------------------------------------------------------------\u001b[0m",
      "\u001b[1;31mNameError\u001b[0m                                 Traceback (most recent call last)",
      "\u001b[1;32m~\\AppData\\Local\\Temp\\ipykernel_14064\\2651335253.py\u001b[0m in \u001b[0;36m<module>\u001b[1;34m\u001b[0m\n\u001b[1;32m----> 1\u001b[1;33m \u001b[0mPrint\u001b[0m\u001b[1;33m(\u001b[0m\u001b[1;34m'vishal'\u001b[0m\u001b[1;33m)\u001b[0m\u001b[1;33m\u001b[0m\u001b[1;33m\u001b[0m\u001b[0m\n\u001b[0m",
      "\u001b[1;31mNameError\u001b[0m: name 'Print' is not defined"
     ]
    }
   ],
   "source": [
    "Print('vishal')"
   ]
  },
  {
   "cell_type": "markdown",
   "id": "8187a494",
   "metadata": {},
   "source": [
    "### Python is case-sensitive."
   ]
  },
  {
   "cell_type": "markdown",
   "id": "2840ad3c",
   "metadata": {},
   "source": [
    "#### Python is case-sensitive."
   ]
  },
  {
   "cell_type": "markdown",
   "id": "9c54766b",
   "metadata": {},
   "source": [
    "##### python is case-sensitive."
   ]
  },
  {
   "cell_type": "markdown",
   "id": "a96e6333",
   "metadata": {},
   "source": [
    "## Python is case-sensitive"
   ]
  },
  {
   "cell_type": "code",
   "execution_count": 6,
   "id": "9e7d6468",
   "metadata": {},
   "outputs": [
    {
     "ename": "NameError",
     "evalue": "name 'vishal' is not defined",
     "output_type": "error",
     "traceback": [
      "\u001b[1;31m---------------------------------------------------------------------------\u001b[0m",
      "\u001b[1;31mNameError\u001b[0m                                 Traceback (most recent call last)",
      "\u001b[1;32m~\\AppData\\Local\\Temp\\ipykernel_14064\\2243730396.py\u001b[0m in \u001b[0;36m<module>\u001b[1;34m\u001b[0m\n\u001b[1;32m----> 1\u001b[1;33m \u001b[0mprint\u001b[0m\u001b[1;33m(\u001b[0m\u001b[0mvishal\u001b[0m\u001b[1;33m)\u001b[0m\u001b[1;33m\u001b[0m\u001b[1;33m\u001b[0m\u001b[0m\n\u001b[0m",
      "\u001b[1;31mNameError\u001b[0m: name 'vishal' is not defined"
     ]
    }
   ],
   "source": [
    "print(vishal)"
   ]
  },
  {
   "cell_type": "code",
   "execution_count": 7,
   "id": "06cbb787",
   "metadata": {},
   "outputs": [
    {
     "name": "stdout",
     "output_type": "stream",
     "text": [
      "10\n"
     ]
    }
   ],
   "source": [
    "print(10)"
   ]
  },
  {
   "cell_type": "markdown",
   "id": "4ccdd422",
   "metadata": {},
   "source": [
    "### string(text) should be in inerted comma."
   ]
  },
  {
   "cell_type": "markdown",
   "id": "4f384b4f",
   "metadata": {},
   "source": [
    "### Shortcut keys"
   ]
  },
  {
   "cell_type": "code",
   "execution_count": null,
   "id": "c0332e05",
   "metadata": {},
   "outputs": [],
   "source": [
    "print(10)"
   ]
  },
  {
   "cell_type": "markdown",
   "id": "a138d4dd",
   "metadata": {},
   "source": [
    "#### run-> shift + enter"
   ]
  },
  {
   "cell_type": "markdown",
   "id": "34343ede",
   "metadata": {},
   "source": [
    "#### add a shell above -> a\n",
    "#### add a shell below -> b\n",
    "#### delete a shell -> x"
   ]
  },
  {
   "cell_type": "code",
   "execution_count": 9,
   "id": "0c964f17",
   "metadata": {},
   "outputs": [
    {
     "data": {
      "text/plain": [
       "int"
      ]
     },
     "execution_count": 9,
     "metadata": {},
     "output_type": "execute_result"
    }
   ],
   "source": [
    "x=10\n",
    "type(x)"
   ]
  },
  {
   "cell_type": "code",
   "execution_count": 10,
   "id": "b6deb85b",
   "metadata": {},
   "outputs": [
    {
     "data": {
      "text/plain": [
       "float"
      ]
     },
     "execution_count": 10,
     "metadata": {},
     "output_type": "execute_result"
    }
   ],
   "source": [
    "x=10.5\n",
    "type(x)"
   ]
  },
  {
   "cell_type": "code",
   "execution_count": 11,
   "id": "4223d9f5",
   "metadata": {},
   "outputs": [
    {
     "data": {
      "text/plain": [
       "str"
      ]
     },
     "execution_count": 11,
     "metadata": {},
     "output_type": "execute_result"
    }
   ],
   "source": [
    "course='data science'\n",
    "type(course)\n"
   ]
  },
  {
   "cell_type": "markdown",
   "id": "4c342b58",
   "metadata": {},
   "source": [
    "### Variables"
   ]
  },
  {
   "cell_type": "code",
   "execution_count": 12,
   "id": "13447529",
   "metadata": {},
   "outputs": [],
   "source": [
    "coursenames='DS','MS','AI'"
   ]
  },
  {
   "cell_type": "code",
   "execution_count": 13,
   "id": "112a0d03",
   "metadata": {},
   "outputs": [
    {
     "data": {
      "text/plain": [
       "('DS', 'MS', 'AI')"
      ]
     },
     "execution_count": 13,
     "metadata": {},
     "output_type": "execute_result"
    }
   ],
   "source": [
    "coursenames"
   ]
  },
  {
   "cell_type": "code",
   "execution_count": 14,
   "id": "7ded85ae",
   "metadata": {},
   "outputs": [
    {
     "ename": "SyntaxError",
     "evalue": "invalid syntax (859949224.py, line 1)",
     "output_type": "error",
     "traceback": [
      "\u001b[1;36m  File \u001b[1;32m\"C:\\Users\\vishal kumar\\AppData\\Local\\Temp\\ipykernel_14064\\859949224.py\"\u001b[1;36m, line \u001b[1;32m1\u001b[0m\n\u001b[1;33m    course names='DS'\u001b[0m\n\u001b[1;37m           ^\u001b[0m\n\u001b[1;31mSyntaxError\u001b[0m\u001b[1;31m:\u001b[0m invalid syntax\n"
     ]
    }
   ],
   "source": [
    "course names='DS'\n",
    "course names"
   ]
  },
  {
   "cell_type": "markdown",
   "id": "94268e92",
   "metadata": {},
   "source": [
    "#### space is not allowed"
   ]
  },
  {
   "cell_type": "code",
   "execution_count": 15,
   "id": "49081fef",
   "metadata": {},
   "outputs": [],
   "source": [
    "course_names=\"DS\",'ML',\"AI\"\n",
    "course_names=\"DS\",\"MS\",\"AI\""
   ]
  },
  {
   "cell_type": "markdown",
   "id": "814938f1",
   "metadata": {},
   "source": [
    "#### the only allowed spl character is underscore."
   ]
  },
  {
   "cell_type": "code",
   "execution_count": 16,
   "id": "ffae9d31",
   "metadata": {},
   "outputs": [
    {
     "ename": "SyntaxError",
     "evalue": "invalid syntax (3853200685.py, line 1)",
     "output_type": "error",
     "traceback": [
      "\u001b[1;36m  File \u001b[1;32m\"C:\\Users\\vishal kumar\\AppData\\Local\\Temp\\ipykernel_14064\\3853200685.py\"\u001b[1;36m, line \u001b[1;32m1\u001b[0m\n\u001b[1;33m    3course_names=\"DS\",'ML',\"AI\"\u001b[0m\n\u001b[1;37m     ^\u001b[0m\n\u001b[1;31mSyntaxError\u001b[0m\u001b[1;31m:\u001b[0m invalid syntax\n"
     ]
    }
   ],
   "source": [
    "3course_names=\"DS\",'ML',\"AI\"\n",
    "3course_names=\"DS\",\"MS\",\"AI\""
   ]
  },
  {
   "cell_type": "markdown",
   "id": "8af94167",
   "metadata": {},
   "source": [
    "#### variale name should not start with a number."
   ]
  },
  {
   "cell_type": "markdown",
   "id": "b6087907",
   "metadata": {},
   "source": [
    "#### It should start with a A-Z,a-z or (_)."
   ]
  },
  {
   "cell_type": "code",
   "execution_count": null,
   "id": "5f978869",
   "metadata": {},
   "outputs": [],
   "source": []
  },
  {
   "cell_type": "code",
   "execution_count": null,
   "id": "8fb88251",
   "metadata": {},
   "outputs": [],
   "source": []
  }
 ],
 "metadata": {
  "kernelspec": {
   "display_name": "Python 3 (ipykernel)",
   "language": "python",
   "name": "python3"
  },
  "language_info": {
   "codemirror_mode": {
    "name": "ipython",
    "version": 3
   },
   "file_extension": ".py",
   "mimetype": "text/x-python",
   "name": "python",
   "nbconvert_exporter": "python",
   "pygments_lexer": "ipython3",
   "version": "3.9.13"
  }
 },
 "nbformat": 4,
 "nbformat_minor": 5
}
