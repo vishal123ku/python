{
 "cells": [
  {
   "cell_type": "code",
   "execution_count": 1,
   "id": "97db8b13",
   "metadata": {},
   "outputs": [
    {
     "name": "stdout",
     "output_type": "stream",
     "text": [
      "hello world\n"
     ]
    }
   ],
   "source": [
    "print('hello world')"
   ]
  },
  {
   "cell_type": "code",
   "execution_count": 2,
   "id": "835c71bb",
   "metadata": {},
   "outputs": [
    {
     "name": "stdout",
     "output_type": "stream",
     "text": [
      "vishal\n"
     ]
    }
   ],
   "source": [
    "print('vishal')"
   ]
  },
  {
   "cell_type": "code",
   "execution_count": 3,
   "id": "4eac02aa",
   "metadata": {},
   "outputs": [
    {
     "ename": "NameError",
     "evalue": "name 'Print' is not defined",
     "output_type": "error",
     "traceback": [
      "\u001b[1;31m---------------------------------------------------------------------------\u001b[0m",
      "\u001b[1;31mNameError\u001b[0m                                 Traceback (most recent call last)",
      "\u001b[1;32m~\\AppData\\Local\\Temp\\ipykernel_19284\\2651335253.py\u001b[0m in \u001b[0;36m<module>\u001b[1;34m\u001b[0m\n\u001b[1;32m----> 1\u001b[1;33m \u001b[0mPrint\u001b[0m\u001b[1;33m(\u001b[0m\u001b[1;34m'vishal'\u001b[0m\u001b[1;33m)\u001b[0m\u001b[1;33m\u001b[0m\u001b[1;33m\u001b[0m\u001b[0m\n\u001b[0m",
      "\u001b[1;31mNameError\u001b[0m: name 'Print' is not defined"
     ]
    }
   ],
   "source": [
    "Print('vishal')"
   ]
  },
  {
   "cell_type": "markdown",
   "id": "52f8ede1",
   "metadata": {},
   "source": [
    "###  Python is case-sensitive"
   ]
  },
  {
   "cell_type": "markdown",
   "id": "3ce80e52",
   "metadata": {},
   "source": [
    "#### it is good"
   ]
  },
  {
   "cell_type": "code",
   "execution_count": 5,
   "id": "1c52b68b",
   "metadata": {},
   "outputs": [
    {
     "ename": "NameError",
     "evalue": "name 'Latha' is not defined",
     "output_type": "error",
     "traceback": [
      "\u001b[1;31m---------------------------------------------------------------------------\u001b[0m",
      "\u001b[1;31mNameError\u001b[0m                                 Traceback (most recent call last)",
      "\u001b[1;32m~\\AppData\\Local\\Temp\\ipykernel_19284\\3736413184.py\u001b[0m in \u001b[0;36m<module>\u001b[1;34m\u001b[0m\n\u001b[1;32m----> 1\u001b[1;33m \u001b[0mprint\u001b[0m\u001b[1;33m(\u001b[0m\u001b[0mLatha\u001b[0m\u001b[1;33m)\u001b[0m\u001b[1;33m\u001b[0m\u001b[1;33m\u001b[0m\u001b[0m\n\u001b[0m",
      "\u001b[1;31mNameError\u001b[0m: name 'Latha' is not defined"
     ]
    }
   ],
   "source": [
    "print(Latha)"
   ]
  },
  {
   "cell_type": "code",
   "execution_count": 6,
   "id": "d7c6e813",
   "metadata": {},
   "outputs": [
    {
     "name": "stdout",
     "output_type": "stream",
     "text": [
      "10\n"
     ]
    }
   ],
   "source": [
    "print(10)"
   ]
  },
  {
   "cell_type": "markdown",
   "id": "0d7162ae",
   "metadata": {},
   "source": [
    "### String(text) should be in inverted comma"
   ]
  },
  {
   "cell_type": "markdown",
   "id": "36d00914",
   "metadata": {},
   "source": [
    "### shortcut keys"
   ]
  },
  {
   "cell_type": "code",
   "execution_count": 7,
   "id": "bc068856",
   "metadata": {},
   "outputs": [
    {
     "name": "stdout",
     "output_type": "stream",
     "text": [
      "1\n"
     ]
    }
   ],
   "source": [
    "print(1)"
   ]
  },
  {
   "cell_type": "markdown",
   "id": "9b6bd9d0",
   "metadata": {},
   "source": [
    "### Add a cell above => a"
   ]
  },
  {
   "cell_type": "markdown",
   "id": "f208a92e",
   "metadata": {},
   "source": [
    "### Add a cell below => b"
   ]
  },
  {
   "cell_type": "markdown",
   "id": "62745bdd",
   "metadata": {},
   "source": [
    "### Delete a cell => x"
   ]
  },
  {
   "cell_type": "code",
   "execution_count": 8,
   "id": "1317768d",
   "metadata": {},
   "outputs": [
    {
     "data": {
      "text/plain": [
       "int"
      ]
     },
     "execution_count": 8,
     "metadata": {},
     "output_type": "execute_result"
    }
   ],
   "source": [
    "x=10\n",
    "type(x)"
   ]
  },
  {
   "cell_type": "code",
   "execution_count": 9,
   "id": "a437c524",
   "metadata": {},
   "outputs": [
    {
     "data": {
      "text/plain": [
       "float"
      ]
     },
     "execution_count": 9,
     "metadata": {},
     "output_type": "execute_result"
    }
   ],
   "source": [
    "z=10.5\n",
    "type(z)"
   ]
  },
  {
   "cell_type": "code",
   "execution_count": 10,
   "id": "36bcc768",
   "metadata": {},
   "outputs": [
    {
     "data": {
      "text/plain": [
       "str"
      ]
     },
     "execution_count": 10,
     "metadata": {},
     "output_type": "execute_result"
    }
   ],
   "source": [
    "y=('god')\n",
    "type(y)"
   ]
  },
  {
   "cell_type": "markdown",
   "id": "7e789b1b",
   "metadata": {},
   "source": [
    "### Variables"
   ]
  },
  {
   "cell_type": "code",
   "execution_count": 11,
   "id": "077b2ae7",
   "metadata": {},
   "outputs": [
    {
     "data": {
      "text/plain": [
       "('DS', 'BA', 'ML')"
      ]
     },
     "execution_count": 11,
     "metadata": {},
     "output_type": "execute_result"
    }
   ],
   "source": [
    "coursenames='DS','BA','ML'\n",
    "coursenames"
   ]
  },
  {
   "cell_type": "code",
   "execution_count": null,
   "id": "9aea5274",
   "metadata": {},
   "outputs": [],
   "source": [
    "course names='DS',\"BS\",'MS'\n",
    "course names"
   ]
  },
  {
   "cell_type": "code",
   "execution_count": null,
   "id": "1553be89",
   "metadata": {},
   "outputs": [],
   "source": [
    "course*names='DS','BS',\"MS\"\n",
    "course*names"
   ]
  },
  {
   "cell_type": "code",
   "execution_count": null,
   "id": "9ea364e5",
   "metadata": {},
   "outputs": [],
   "source": [
    "course_names='DS','BS','MS'\n",
    "course_names"
   ]
  },
  {
   "cell_type": "code",
   "execution_count": null,
   "id": "822ffd1b",
   "metadata": {},
   "outputs": [],
   "source": [
    "3coursenames='DS','BS','MS'\n",
    "3coursenames"
   ]
  },
  {
   "cell_type": "code",
   "execution_count": null,
   "id": "79dd3493",
   "metadata": {},
   "outputs": [],
   "source": [
    "c3oursenames='DS','BS','MS'\n",
    "c3oursenames"
   ]
  },
  {
   "cell_type": "markdown",
   "id": "347f5988",
   "metadata": {},
   "source": [
    "### Space is not allowed"
   ]
  },
  {
   "cell_type": "markdown",
   "id": "f4f1d9ca",
   "metadata": {},
   "source": [
    "### The only spl char. is underscore"
   ]
  },
  {
   "cell_type": "markdown",
   "id": "ffd34150",
   "metadata": {},
   "source": [
    "### Variable should not start with a number"
   ]
  },
  {
   "cell_type": "markdown",
   "id": "0c21eede",
   "metadata": {},
   "source": [
    "### It should start with A-Z, a-z or underscore(_)"
   ]
  },
  {
   "cell_type": "code",
   "execution_count": null,
   "id": "eec5e4ce",
   "metadata": {},
   "outputs": [],
   "source": []
  }
 ],
 "metadata": {
  "kernelspec": {
   "display_name": "Python 3 (ipykernel)",
   "language": "python",
   "name": "python3"
  },
  "language_info": {
   "codemirror_mode": {
    "name": "ipython",
    "version": 3
   },
   "file_extension": ".py",
   "mimetype": "text/x-python",
   "name": "python",
   "nbconvert_exporter": "python",
   "pygments_lexer": "ipython3",
   "version": "3.9.13"
  }
 },
 "nbformat": 4,
 "nbformat_minor": 5
}
